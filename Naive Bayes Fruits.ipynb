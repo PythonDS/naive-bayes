{
 "cells": [
  {
   "cell_type": "markdown",
   "metadata": {},
   "source": [
    "## First, Conditional Probability & Bayes's Rule\n",
    "\n",
    "Sebelum mempelajari mengenai Naive Bayes, terlebih dahulu harus mengetahui konsep yang berkaitan yaitu Conditional Probability dan Bayes's Rule.\n",
    "**Conditional Probability** adalah mengetahui probability sesuatu yang akan terjadi, dengan telah diberikan sesuatu yang telah terjadi.\n",
    "\n",
    "Misalkan terdapat **Outcome O** dan **Evidence E**. Berdasarkan kedua ini, probability dapat didefinisikan:\n",
    "> Probability untuk mendapatkan Outcome O dan Evidence E: (Probability terjadi O) dikalikan dengan (Probability dari E ketika O terjadi)\n",
    "\n",
    "Berikut adalah contoh lain Conditional Probability:\n",
    "- Diketahui terdapat sejumlah US Senator. Senator bisa dari Demokrat atau Republik. Senator juga bisa Laki atau Perempuan\n",
    "\n",
    "Jika kita memilih secara acak, berapakah probability jika yang terpilih Senator adalah Perempuan Demokrat?\n",
    "> Probability dari (Senator Demokrat dan Perempuan) = Probability(Senator adalah Demokrat) dikalikan dengan Probability dari Perempuan yang dia adalah Demokrat.\n",
    "\n",
    "Sehingga dapat dituliskan:\n",
    "<pre>\n",
    "P(Demokrat & Perempuan) = P(Demokrat) * P(Perempuan | Demokrat) \n",
    "</pre>\n",
    "\n",
    "Bisa juga dituliskan secara terbalik:\n",
    "<pre>\n",
    "P(Demokrat & Perempuan) = P(Perempuan) * P(Demokrat | Perempuan)\n",
    "</pre>"
   ]
  },
  {
   "cell_type": "markdown",
   "metadata": {},
   "source": [
    "## Understanding Bayes Rule\n",
    "\n",
    "Berdasarkan konsep Bayes, dapat dituliskan menjadi sebagai berikut \n",
    "   > P(Evidence| Known Outcome) jadi P(Outcome|Known Evidence).\n",
    "\n",
    "Contoh sederhana untuk lebih memahami adalah sebagai berikut:\n",
    "<pre>\n",
    "Probability of Disease D given Test-positive =\n",
    "\n",
    "         Prob(Test is positive|Disease) * P(Disease)\n",
    "_______________________________________________________________\n",
    "(scaled by) Prob(Testing Positive, with or without the disease)        \n",
    "                                                        \n",
    "</pre>             "
   ]
  },
  {
   "cell_type": "markdown",
   "metadata": {},
   "source": [
    "## Getting to Naive Bayes\n",
    "\n",
    "Sejauh ini, kita hanya berbicara jika hanya terdapat satu Evidence. Kenyataannya, kita harus melakukan prediksi Outcome dengan diberikan **multiple evidence**. Pada kasus ini, menggunakan matematika akan rumit, salah satu pendekatannya adalah dengan melakukan *uncouple* evidence yang ada, dan setiap evidence dengan yang lainnya adalah **independent**. Pendekatan ini yang dinamakan dengan Naive Bayes.\n",
    "\n",
    "<pre>\n",
    "                      P(Likelihood of Evidence) * Prior prob of outcome\n",
    "P(outcome|evidence) = _________________________________________________\n",
    "                                         P(Evidence)\n",
    "</pre>"
   ]
  },
  {
   "cell_type": "markdown",
   "metadata": {},
   "source": [
    "## Fruit Example\n",
    "\n",
    "Sekarang untuk meningkatkan pemahaman terdapat studi kasus: Melakukan identifikasi 'fruit'.\n",
    "\n",
    "Pak Dino memiliki 1000 buah. Diantara buah tersebut adalah **Pisang, Jeruk,** dan **Lainnya.** Pak Dino adalah orang yang cerdas sehingga mengetahui karakteristik dari setiap buah berdasarkan:\n",
    "1. Apakah Panjang atau tidak.\n",
    "2. Apakah Manis atau tidak.\n",
    "3. Apakah warna Kuning atau tidak."
   ]
  },
  {
   "cell_type": "markdown",
   "metadata": {},
   "source": [
    "Berikut adalah data yang diberikan:"
   ]
  },
  {
   "cell_type": "markdown",
   "metadata": {},
   "source": [
    "| Type | * | Panjang | Not Panjang | * | Manis | Not Manis | * | Kuning | Not Kuning | * | TOTAL | \n",
    "| :--: | :-: | :--: | :--: | :-: | :--: | :--: | :-: | :--: | :--: | :-: | :---: |\n",
    "| Pisang | * | 400 | 100 | * | 350 | 150 | * | 450 | 50 | * | 500 |\n",
    "| Jeruk | * | 0 | 300 | * | 150 | 150 | * | 300 | 0 | * | 300 |\n",
    "| Lain | * | 100 | 100 | * | 150 | 50 | * | 50 | 150 | * | 200 |\n",
    "| **TOTAL** | * | **500** | **500** | * | **650** | **350** | * | **800** | **200** | * | **1000** |"
   ]
  },
  {
   "cell_type": "markdown",
   "metadata": {},
   "source": [
    "Kemudian kita menghitung **Prior** probabilities."
   ]
  },
  {
   "cell_type": "code",
   "execution_count": null,
   "metadata": {
    "collapsed": false
   },
   "outputs": [],
   "source": [
    "# P(Pisang)\n",
    "P_Pisang = None\n",
    "\n",
    "# P(Jeruk)\n",
    "P_Jeruk = None\n",
    "\n",
    "# P(Lain)\n",
    "P_Lain = None\n"
   ]
  },
  {
   "cell_type": "markdown",
   "metadata": {
    "collapsed": true
   },
   "source": [
    "Probability of **Evidence**."
   ]
  },
  {
   "cell_type": "code",
   "execution_count": null,
   "metadata": {
    "collapsed": true
   },
   "outputs": [],
   "source": [
    "# P(Panjang)\n",
    "P_Panjang = None\n",
    "\n",
    "# P(Manis)\n",
    "P_Manis = None\n",
    "\n",
    "# P(Kuning)\n",
    "P_Kuning = None"
   ]
  },
  {
   "cell_type": "markdown",
   "metadata": {},
   "source": [
    "Probability of **Likelihood**"
   ]
  },
  {
   "cell_type": "code",
   "execution_count": null,
   "metadata": {
    "collapsed": true
   },
   "outputs": [],
   "source": [
    "# P(Panjang|Pisang)\n",
    "P_Panjang_Pisang = None\n",
    "# P(Panjang|Jeruk)\n",
    "P_Panjang_Jeruk = None\n",
    "# P(Panjang|Lain)\n",
    "P_Panjang_Lain = None\n",
    "\n",
    "# P(Manis|Pisang)\n",
    "P_Manis_Pisang = None\n",
    "# P(Manis|Jeruk)\n",
    "P_Manis_Jeruk = None\n",
    "# P(Manis|Lain)\n",
    "P_Manis_Lain = None\n",
    "\n",
    "# P(Kuning|Pisang)\n",
    "P_Kuning_Pisang = None\n",
    "# P(Kuning|Jeruk)\n",
    "P_Kuning_Jeruk = None\n",
    "# P(Kuning|Lain)\n",
    "P_Kuning_Lain = None"
   ]
  },
  {
   "cell_type": "markdown",
   "metadata": {},
   "source": [
    "## Given a Fruit, how to classify it?"
   ]
  },
  {
   "cell_type": "markdown",
   "metadata": {},
   "source": [
    "Pak Dino memiliki seorang anak bernama Dinopo yang masih berusia 6 tahun. Dinopo baru pertama kali belajar Naive Bayes saat ikut **Sinau Bareng**. Karena rasa penasaran yang tinggi, sepulang belajar Dinopo ingin menerapkan ilmunya dengan langsung mengambil 1 buah yang dimiliki Pak Dino. Ternyata Dinopo masih bingung buah apa yang diambilnya. Dinopo kemudian tanya kepada Dipono kakaknya yang jago Machine Learning untuk mengetahui jenis buah tersebut apakah itu Pisang? apakah itu Jeruk? ataukah itu buah Lain?\n",
    "\n",
    "Dipono pun memberikan petunjuk sebagai berikut:\n",
    "Untuk mengetahui jenis buah, kita dapat menghitung probability dari tiap buah. Kemudian dipilih buah yang memiliki probability terbesar dan diklasifikasikan buah yang tidak diketahui tersebut ke probabilty tertinggi itu berdasarkan Prior Evidence (dari data training 1000 buah)."
   ]
  },
  {
   "cell_type": "code",
   "execution_count": null,
   "metadata": {
    "collapsed": true
   },
   "outputs": [],
   "source": [
    "# P(Pisang| Panjang, Manis, Kuning)\n",
    "# P(Jeruk| Panjang, Manis, Kuning)\n",
    "# P(Lain| Panjang, Manis, Kuning)"
   ]
  },
  {
   "cell_type": "code",
   "execution_count": null,
   "metadata": {
    "collapsed": true
   },
   "outputs": [],
   "source": []
  }
 ],
 "metadata": {
  "anaconda-cloud": {},
  "kernelspec": {
   "display_name": "Python [default]",
   "language": "python",
   "name": "python3"
  },
  "language_info": {
   "codemirror_mode": {
    "name": "ipython",
    "version": 3
   },
   "file_extension": ".py",
   "mimetype": "text/x-python",
   "name": "python",
   "nbconvert_exporter": "python",
   "pygments_lexer": "ipython3",
   "version": "3.5.2"
  }
 },
 "nbformat": 4,
 "nbformat_minor": 1
}
